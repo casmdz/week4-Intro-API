{
 "cells": [
  {
   "cell_type": "markdown",
   "id": "7196054f",
   "metadata": {},
   "source": [
    "# Working with APIs"
   ]
  },
  {
   "cell_type": "markdown",
   "id": "0547b71e",
   "metadata": {},
   "source": [
    "API stands for Application programming interface<br>\n",
    "APIs are a way for applications to talk to eachother<br>\n",
    "In python we use the requests package to handle the connection<br>\n",
    "<small><strong>Note: It is requests with an s not request(this is a different package)</strong></small><br>\n",
    "Most API's communicate with data in the form of JSON<br>\n",
    "JSON stands for JavaScript Object Notation"
   ]
  },
  {
   "cell_type": "code",
   "execution_count": 2,
   "id": "4db9d154",
   "metadata": {
    "scrolled": false
   },
   "outputs": [],
   "source": [
    "#import the packages we need:\n",
    "import requests, json"
   ]
  },
  {
   "cell_type": "markdown",
   "id": "e8c2ce51",
   "metadata": {},
   "source": [
    "We will be connecting to the Ergast F1 Racer API today:\n",
    "http://ergast.com/mrd/\n",
    "\n",
    "to view JSON data nicely in the Chrome browser install the extension JSONview"
   ]
  },
  {
   "cell_type": "code",
   "execution_count": 3,
   "id": "52c440c6",
   "metadata": {
    "scrolled": false
   },
   "outputs": [],
   "source": [
    "url = \"http://ergast.com/api/f1/2008/5/driverStandings.json\""
   ]
  },
  {
   "cell_type": "code",
   "execution_count": 5,
   "id": "c388b5e3",
   "metadata": {
    "scrolled": false
   },
   "outputs": [
    {
     "name": "stdout",
     "output_type": "stream",
     "text": [
      "<Response [200]>\n",
      "<class 'requests.models.Response'>\n"
     ]
    }
   ],
   "source": [
    "response = requests.get(url)\n",
    "print(response)\n",
    "print(type(response))"
   ]
  },
  {
   "cell_type": "code",
   "execution_count": 10,
   "id": "7b63a204",
   "metadata": {
    "scrolled": false
   },
   "outputs": [
    {
     "name": "stdout",
     "output_type": "stream",
     "text": [
      "True\n",
      "200\n",
      "<class 'dict'>\n",
      "['Kimi Räikkönen drove a Ferrari', 'Felipe Massa drove a Ferrari', 'Lewis Hamilton drove a McLaren', 'Robert Kubica drove a BMW Sauber', 'Nick Heidfeld drove a BMW Sauber', 'Heikki Kovalainen drove a McLaren', 'Mark Webber drove a Red Bull', 'Fernando Alonso drove a Renault', 'Jarno Trulli drove a Toyota', 'Nico Rosberg drove a Williams', 'Kazuki Nakajima drove a Williams', 'Jenson Button drove a Honda', 'Sébastien Bourdais drove a Toro Rosso', 'David Coulthard drove a Red Bull', 'Timo Glock drove a Toyota', 'Giancarlo Fisichella drove a Force India', 'Rubens Barrichello drove a Honda', 'Nelson Piquet Jr. drove a Renault', 'Takuma Sato drove a Super Aguri', 'Anthony Davidson drove a Super Aguri', 'Adrian Sutil drove a Force India', 'Sebastian Vettel drove a Toro Rosso']\n"
     ]
    }
   ],
   "source": [
    "#response object\n",
    "response.ok\n",
    "print(response.ok)\n",
    "print(response.status_code)\n",
    "if response.ok:\n",
    "    data = response.json() #view the response as a JSON\n",
    "    drivers = data[\"MRData\"][\"StandingsTable\"][\"StandingsLists\"][0][\"DriverStandings\"] # We only want the Driver Standings\n",
    "    print(type(response.json())) #<class 'dict'>\n",
    "#     print(data)\n",
    "    mylist = []\n",
    "    for info in drivers:\n",
    "        first_name = info[\"Driver\"]['givenName']\n",
    "        last_name = info[\"Driver\"][\"familyName\"]\n",
    "        car = info[\"Constructors\"][0]['name']\n",
    "        mylist.append(f'{first_name} {last_name} drove a {car}')\n",
    "    print(mylist)\n",
    "    "
   ]
  },
  {
   "cell_type": "code",
   "execution_count": 3,
   "id": "c6d1fdaf",
   "metadata": {
    "scrolled": false
   },
   "outputs": [],
   "source": [
    "#check and make sure we got a successful response from the API\n"
   ]
  },
  {
   "cell_type": "code",
   "execution_count": 11,
   "id": "ed4d3256",
   "metadata": {
    "scrolled": false
   },
   "outputs": [
    {
     "name": "stdout",
     "output_type": "stream",
     "text": [
      "What year did you want to search for? 2019\n",
      "<class 'dict'>\n",
      "['Valtteri Bottas drove a Mercedes', 'Lewis Hamilton drove a Mercedes', 'Max Verstappen drove a Red Bull', 'Sebastian Vettel drove a Ferrari', 'Charles Leclerc drove a Ferrari', 'Kevin Magnussen drove a Haas F1 Team', 'Nico Hülkenberg drove a Renault', 'Kimi Räikkönen drove a Alfa Romeo', 'Lance Stroll drove a Racing Point', 'Daniil Kvyat drove a Toro Rosso', 'Pierre Gasly drove a Red Bull', 'Lando Norris drove a McLaren', 'Sergio Pérez drove a Racing Point', 'Alexander Albon drove a Toro Rosso', 'Antonio Giovinazzi drove a Alfa Romeo', 'George Russell drove a Williams', 'Robert Kubica drove a Williams', 'Romain Grosjean drove a Haas F1 Team', 'Daniel Ricciardo drove a Renault', 'Carlos Sainz drove a McLaren']\n"
     ]
    }
   ],
   "source": [
    "year = input('What year did you want to search for? ')\n",
    "url = f'http://ergast.com/api/f1/{year}/1/driverStandings.json'\n",
    "\n",
    "response = requests.get(url)\n",
    "\n",
    "if response.ok:\n",
    "    data = response.json() #view the response as a JSON\n",
    "    drivers = data[\"MRData\"][\"StandingsTable\"][\"StandingsLists\"][0][\"DriverStandings\"] # We only want the Driver Standings\n",
    "    print(type(response.json())) #<class 'dict'>\n",
    "#     print(data)\n",
    "    mylist = []\n",
    "    for info in drivers:\n",
    "        first_name = info[\"Driver\"]['givenName']\n",
    "        last_name = info[\"Driver\"][\"familyName\"]\n",
    "        car = info[\"Constructors\"][0]['name']\n",
    "        mylist.append(f'{first_name} {last_name} drove a {car}')\n",
    "    print(mylist)\n",
    "    \n",
    "else: \n",
    "    print('invalid year please try again')"
   ]
  },
  {
   "cell_type": "code",
   "execution_count": 5,
   "id": "f074dfcf",
   "metadata": {
    "scrolled": false
   },
   "outputs": [],
   "source": [
    "# We only want the Driver Standings\n"
   ]
  },
  {
   "cell_type": "code",
   "execution_count": null,
   "id": "be46a950",
   "metadata": {
    "scrolled": false
   },
   "outputs": [],
   "source": []
  },
  {
   "cell_type": "code",
   "execution_count": 12,
   "id": "3740c752",
   "metadata": {
    "scrolled": true
   },
   "outputs": [
    {
     "name": "stdout",
     "output_type": "stream",
     "text": [
      "<Response [200]>\n",
      "{'abilities': [{'ability': {'name': 'limber', 'url': 'https://pokeapi.co/api/v2/ability/7/'}, 'is_hidden': False, 'slot': 1}, {'ability': {'name': 'imposter', 'url': 'https://pokeapi.co/api/v2/ability/150/'}, 'is_hidden': True, 'slot': 3}], 'base_experience': 101, 'forms': [{'name': 'ditto', 'url': 'https://pokeapi.co/api/v2/pokemon-form/132/'}], 'game_indices': [{'game_index': 76, 'version': {'name': 'red', 'url': 'https://pokeapi.co/api/v2/version/1/'}}, {'game_index': 76, 'version': {'name': 'blue', 'url': 'https://pokeapi.co/api/v2/version/2/'}}, {'game_index': 76, 'version': {'name': 'yellow', 'url': 'https://pokeapi.co/api/v2/version/3/'}}, {'game_index': 132, 'version': {'name': 'gold', 'url': 'https://pokeapi.co/api/v2/version/4/'}}, {'game_index': 132, 'version': {'name': 'silver', 'url': 'https://pokeapi.co/api/v2/version/5/'}}, {'game_index': 132, 'version': {'name': 'crystal', 'url': 'https://pokeapi.co/api/v2/version/6/'}}, {'game_index': 132, 'version': {'name': 'ruby', 'url': 'https://pokeapi.co/api/v2/version/7/'}}, {'game_index': 132, 'version': {'name': 'sapphire', 'url': 'https://pokeapi.co/api/v2/version/8/'}}, {'game_index': 132, 'version': {'name': 'emerald', 'url': 'https://pokeapi.co/api/v2/version/9/'}}, {'game_index': 132, 'version': {'name': 'firered', 'url': 'https://pokeapi.co/api/v2/version/10/'}}, {'game_index': 132, 'version': {'name': 'leafgreen', 'url': 'https://pokeapi.co/api/v2/version/11/'}}, {'game_index': 132, 'version': {'name': 'diamond', 'url': 'https://pokeapi.co/api/v2/version/12/'}}, {'game_index': 132, 'version': {'name': 'pearl', 'url': 'https://pokeapi.co/api/v2/version/13/'}}, {'game_index': 132, 'version': {'name': 'platinum', 'url': 'https://pokeapi.co/api/v2/version/14/'}}, {'game_index': 132, 'version': {'name': 'heartgold', 'url': 'https://pokeapi.co/api/v2/version/15/'}}, {'game_index': 132, 'version': {'name': 'soulsilver', 'url': 'https://pokeapi.co/api/v2/version/16/'}}, {'game_index': 132, 'version': {'name': 'black', 'url': 'https://pokeapi.co/api/v2/version/17/'}}, {'game_index': 132, 'version': {'name': 'white', 'url': 'https://pokeapi.co/api/v2/version/18/'}}, {'game_index': 132, 'version': {'name': 'black-2', 'url': 'https://pokeapi.co/api/v2/version/21/'}}, {'game_index': 132, 'version': {'name': 'white-2', 'url': 'https://pokeapi.co/api/v2/version/22/'}}], 'height': 3, 'held_items': [{'item': {'name': 'metal-powder', 'url': 'https://pokeapi.co/api/v2/item/234/'}, 'version_details': [{'rarity': 5, 'version': {'name': 'ruby', 'url': 'https://pokeapi.co/api/v2/version/7/'}}, {'rarity': 5, 'version': {'name': 'sapphire', 'url': 'https://pokeapi.co/api/v2/version/8/'}}, {'rarity': 5, 'version': {'name': 'emerald', 'url': 'https://pokeapi.co/api/v2/version/9/'}}, {'rarity': 5, 'version': {'name': 'firered', 'url': 'https://pokeapi.co/api/v2/version/10/'}}, {'rarity': 5, 'version': {'name': 'leafgreen', 'url': 'https://pokeapi.co/api/v2/version/11/'}}, {'rarity': 5, 'version': {'name': 'diamond', 'url': 'https://pokeapi.co/api/v2/version/12/'}}, {'rarity': 5, 'version': {'name': 'pearl', 'url': 'https://pokeapi.co/api/v2/version/13/'}}, {'rarity': 5, 'version': {'name': 'platinum', 'url': 'https://pokeapi.co/api/v2/version/14/'}}, {'rarity': 5, 'version': {'name': 'heartgold', 'url': 'https://pokeapi.co/api/v2/version/15/'}}, {'rarity': 5, 'version': {'name': 'soulsilver', 'url': 'https://pokeapi.co/api/v2/version/16/'}}, {'rarity': 5, 'version': {'name': 'black', 'url': 'https://pokeapi.co/api/v2/version/17/'}}, {'rarity': 5, 'version': {'name': 'white', 'url': 'https://pokeapi.co/api/v2/version/18/'}}, {'rarity': 5, 'version': {'name': 'black-2', 'url': 'https://pokeapi.co/api/v2/version/21/'}}, {'rarity': 5, 'version': {'name': 'white-2', 'url': 'https://pokeapi.co/api/v2/version/22/'}}, {'rarity': 5, 'version': {'name': 'x', 'url': 'https://pokeapi.co/api/v2/version/23/'}}, {'rarity': 5, 'version': {'name': 'y', 'url': 'https://pokeapi.co/api/v2/version/24/'}}, {'rarity': 5, 'version': {'name': 'omega-ruby', 'url': 'https://pokeapi.co/api/v2/version/25/'}}, {'rarity': 5, 'version': {'name': 'alpha-sapphire', 'url': 'https://pokeapi.co/api/v2/version/26/'}}, {'rarity': 5, 'version': {'name': 'sun', 'url': 'https://pokeapi.co/api/v2/version/27/'}}, {'rarity': 5, 'version': {'name': 'moon', 'url': 'https://pokeapi.co/api/v2/version/28/'}}, {'rarity': 5, 'version': {'name': 'ultra-sun', 'url': 'https://pokeapi.co/api/v2/version/29/'}}, {'rarity': 5, 'version': {'name': 'ultra-moon', 'url': 'https://pokeapi.co/api/v2/version/30/'}}]}, {'item': {'name': 'quick-powder', 'url': 'https://pokeapi.co/api/v2/item/251/'}, 'version_details': [{'rarity': 50, 'version': {'name': 'diamond', 'url': 'https://pokeapi.co/api/v2/version/12/'}}, {'rarity': 50, 'version': {'name': 'pearl', 'url': 'https://pokeapi.co/api/v2/version/13/'}}, {'rarity': 50, 'version': {'name': 'platinum', 'url': 'https://pokeapi.co/api/v2/version/14/'}}, {'rarity': 50, 'version': {'name': 'heartgold', 'url': 'https://pokeapi.co/api/v2/version/15/'}}, {'rarity': 50, 'version': {'name': 'soulsilver', 'url': 'https://pokeapi.co/api/v2/version/16/'}}, {'rarity': 50, 'version': {'name': 'black', 'url': 'https://pokeapi.co/api/v2/version/17/'}}, {'rarity': 50, 'version': {'name': 'white', 'url': 'https://pokeapi.co/api/v2/version/18/'}}, {'rarity': 50, 'version': {'name': 'black-2', 'url': 'https://pokeapi.co/api/v2/version/21/'}}, {'rarity': 50, 'version': {'name': 'white-2', 'url': 'https://pokeapi.co/api/v2/version/22/'}}, {'rarity': 50, 'version': {'name': 'x', 'url': 'https://pokeapi.co/api/v2/version/23/'}}, {'rarity': 50, 'version': {'name': 'y', 'url': 'https://pokeapi.co/api/v2/version/24/'}}, {'rarity': 50, 'version': {'name': 'omega-ruby', 'url': 'https://pokeapi.co/api/v2/version/25/'}}, {'rarity': 50, 'version': {'name': 'alpha-sapphire', 'url': 'https://pokeapi.co/api/v2/version/26/'}}, {'rarity': 50, 'version': {'name': 'sun', 'url': 'https://pokeapi.co/api/v2/version/27/'}}, {'rarity': 50, 'version': {'name': 'moon', 'url': 'https://pokeapi.co/api/v2/version/28/'}}, {'rarity': 50, 'version': {'name': 'ultra-sun', 'url': 'https://pokeapi.co/api/v2/version/29/'}}, {'rarity': 50, 'version': {'name': 'ultra-moon', 'url': 'https://pokeapi.co/api/v2/version/30/'}}]}], 'id': 132, 'is_default': True, 'location_area_encounters': 'https://pokeapi.co/api/v2/pokemon/132/encounters', 'moves': [{'move': {'name': 'transform', 'url': 'https://pokeapi.co/api/v2/move/144/'}, 'version_group_details': [{'level_learned_at': 1, 'move_learn_method': {'name': 'level-up', 'url': 'https://pokeapi.co/api/v2/move-learn-method/1/'}, 'version_group': {'name': 'red-blue', 'url': 'https://pokeapi.co/api/v2/version-group/1/'}}, {'level_learned_at': 1, 'move_learn_method': {'name': 'level-up', 'url': 'https://pokeapi.co/api/v2/move-learn-method/1/'}, 'version_group': {'name': 'yellow', 'url': 'https://pokeapi.co/api/v2/version-group/2/'}}, {'level_learned_at': 1, 'move_learn_method': {'name': 'level-up', 'url': 'https://pokeapi.co/api/v2/move-learn-method/1/'}, 'version_group': {'name': 'gold-silver', 'url': 'https://pokeapi.co/api/v2/version-group/3/'}}, {'level_learned_at': 1, 'move_learn_method': {'name': 'level-up', 'url': 'https://pokeapi.co/api/v2/move-learn-method/1/'}, 'version_group': {'name': 'crystal', 'url': 'https://pokeapi.co/api/v2/version-group/4/'}}, {'level_learned_at': 1, 'move_learn_method': {'name': 'level-up', 'url': 'https://pokeapi.co/api/v2/move-learn-method/1/'}, 'version_group': {'name': 'ruby-sapphire', 'url': 'https://pokeapi.co/api/v2/version-group/5/'}}, {'level_learned_at': 1, 'move_learn_method': {'name': 'level-up', 'url': 'https://pokeapi.co/api/v2/move-learn-method/1/'}, 'version_group': {'name': 'emerald', 'url': 'https://pokeapi.co/api/v2/version-group/6/'}}, {'level_learned_at': 1, 'move_learn_method': {'name': 'level-up', 'url': 'https://pokeapi.co/api/v2/move-learn-method/1/'}, 'version_group': {'name': 'firered-leafgreen', 'url': 'https://pokeapi.co/api/v2/version-group/7/'}}, {'level_learned_at': 1, 'move_learn_method': {'name': 'level-up', 'url': 'https://pokeapi.co/api/v2/move-learn-method/1/'}, 'version_group': {'name': 'diamond-pearl', 'url': 'https://pokeapi.co/api/v2/version-group/8/'}}, {'level_learned_at': 1, 'move_learn_method': {'name': 'level-up', 'url': 'https://pokeapi.co/api/v2/move-learn-method/1/'}, 'version_group': {'name': 'platinum', 'url': 'https://pokeapi.co/api/v2/version-group/9/'}}, {'level_learned_at': 1, 'move_learn_method': {'name': 'level-up', 'url': 'https://pokeapi.co/api/v2/move-learn-method/1/'}, 'version_group': {'name': 'heartgold-soulsilver', 'url': 'https://pokeapi.co/api/v2/version-group/10/'}}, {'level_learned_at': 1, 'move_learn_method': {'name': 'level-up', 'url': 'https://pokeapi.co/api/v2/move-learn-method/1/'}, 'version_group': {'name': 'black-white', 'url': 'https://pokeapi.co/api/v2/version-group/11/'}}, {'level_learned_at': 1, 'move_learn_method': {'name': 'level-up', 'url': 'https://pokeapi.co/api/v2/move-learn-method/1/'}, 'version_group': {'name': 'colosseum', 'url': 'https://pokeapi.co/api/v2/version-group/12/'}}, {'level_learned_at': 1, 'move_learn_method': {'name': 'level-up', 'url': 'https://pokeapi.co/api/v2/move-learn-method/1/'}, 'version_group': {'name': 'xd', 'url': 'https://pokeapi.co/api/v2/version-group/13/'}}, {'level_learned_at': 1, 'move_learn_method': {'name': 'level-up', 'url': 'https://pokeapi.co/api/v2/move-learn-method/1/'}, 'version_group': {'name': 'black-2-white-2', 'url': 'https://pokeapi.co/api/v2/version-group/14/'}}, {'level_learned_at': 1, 'move_learn_method': {'name': 'level-up', 'url': 'https://pokeapi.co/api/v2/move-learn-method/1/'}, 'version_group': {'name': 'x-y', 'url': 'https://pokeapi.co/api/v2/version-group/15/'}}, {'level_learned_at': 1, 'move_learn_method': {'name': 'level-up', 'url': 'https://pokeapi.co/api/v2/move-learn-method/1/'}, 'version_group': {'name': 'omega-ruby-alpha-sapphire', 'url': 'https://pokeapi.co/api/v2/version-group/16/'}}, {'level_learned_at': 1, 'move_learn_method': {'name': 'level-up', 'url': 'https://pokeapi.co/api/v2/move-learn-method/1/'}, 'version_group': {'name': 'sun-moon', 'url': 'https://pokeapi.co/api/v2/version-group/17/'}}, {'level_learned_at': 1, 'move_learn_method': {'name': 'level-up', 'url': 'https://pokeapi.co/api/v2/move-learn-method/1/'}, 'version_group': {'name': 'ultra-sun-ultra-moon', 'url': 'https://pokeapi.co/api/v2/version-group/18/'}}, {'level_learned_at': 1, 'move_learn_method': {'name': 'level-up', 'url': 'https://pokeapi.co/api/v2/move-learn-method/1/'}, 'version_group': {'name': 'lets-go-pikachu-lets-go-eevee', 'url': 'https://pokeapi.co/api/v2/version-group/19/'}}, {'level_learned_at': 1, 'move_learn_method': {'name': 'level-up', 'url': 'https://pokeapi.co/api/v2/move-learn-method/1/'}, 'version_group': {'name': 'sword-shield', 'url': 'https://pokeapi.co/api/v2/version-group/20/'}}, {'level_learned_at': 1, 'move_learn_method': {'name': 'level-up', 'url': 'https://pokeapi.co/api/v2/move-learn-method/1/'}, 'version_group': {'name': 'scarlet-violet', 'url': 'https://pokeapi.co/api/v2/version-group/25/'}}]}], 'name': 'ditto', 'order': 214, 'past_types': [], 'species': {'name': 'ditto', 'url': 'https://pokeapi.co/api/v2/pokemon-species/132/'}, 'sprites': {'back_default': 'https://raw.githubusercontent.com/PokeAPI/sprites/master/sprites/pokemon/back/132.png', 'back_female': None, 'back_shiny': 'https://raw.githubusercontent.com/PokeAPI/sprites/master/sprites/pokemon/back/shiny/132.png', 'back_shiny_female': None, 'front_default': 'https://raw.githubusercontent.com/PokeAPI/sprites/master/sprites/pokemon/132.png', 'front_female': None, 'front_shiny': 'https://raw.githubusercontent.com/PokeAPI/sprites/master/sprites/pokemon/shiny/132.png', 'front_shiny_female': None, 'other': {'dream_world': {'front_default': 'https://raw.githubusercontent.com/PokeAPI/sprites/master/sprites/pokemon/other/dream-world/132.svg', 'front_female': None}, 'home': {'front_default': 'https://raw.githubusercontent.com/PokeAPI/sprites/master/sprites/pokemon/other/home/132.png', 'front_female': None, 'front_shiny': 'https://raw.githubusercontent.com/PokeAPI/sprites/master/sprites/pokemon/other/home/shiny/132.png', 'front_shiny_female': None}, 'official-artwork': {'front_default': 'https://raw.githubusercontent.com/PokeAPI/sprites/master/sprites/pokemon/other/official-artwork/132.png', 'front_shiny': 'https://raw.githubusercontent.com/PokeAPI/sprites/master/sprites/pokemon/other/official-artwork/shiny/132.png'}}, 'versions': {'generation-i': {'red-blue': {'back_default': 'https://raw.githubusercontent.com/PokeAPI/sprites/master/sprites/pokemon/versions/generation-i/red-blue/back/132.png', 'back_gray': 'https://raw.githubusercontent.com/PokeAPI/sprites/master/sprites/pokemon/versions/generation-i/red-blue/back/gray/132.png', 'back_transparent': 'https://raw.githubusercontent.com/PokeAPI/sprites/master/sprites/pokemon/versions/generation-i/red-blue/transparent/back/132.png', 'front_default': 'https://raw.githubusercontent.com/PokeAPI/sprites/master/sprites/pokemon/versions/generation-i/red-blue/132.png', 'front_gray': 'https://raw.githubusercontent.com/PokeAPI/sprites/master/sprites/pokemon/versions/generation-i/red-blue/gray/132.png', 'front_transparent': 'https://raw.githubusercontent.com/PokeAPI/sprites/master/sprites/pokemon/versions/generation-i/red-blue/transparent/132.png'}, 'yellow': {'back_default': 'https://raw.githubusercontent.com/PokeAPI/sprites/master/sprites/pokemon/versions/generation-i/yellow/back/132.png', 'back_gray': 'https://raw.githubusercontent.com/PokeAPI/sprites/master/sprites/pokemon/versions/generation-i/yellow/back/gray/132.png', 'back_transparent': 'https://raw.githubusercontent.com/PokeAPI/sprites/master/sprites/pokemon/versions/generation-i/yellow/transparent/back/132.png', 'front_default': 'https://raw.githubusercontent.com/PokeAPI/sprites/master/sprites/pokemon/versions/generation-i/yellow/132.png', 'front_gray': 'https://raw.githubusercontent.com/PokeAPI/sprites/master/sprites/pokemon/versions/generation-i/yellow/gray/132.png', 'front_transparent': 'https://raw.githubusercontent.com/PokeAPI/sprites/master/sprites/pokemon/versions/generation-i/yellow/transparent/132.png'}}, 'generation-ii': {'crystal': {'back_default': 'https://raw.githubusercontent.com/PokeAPI/sprites/master/sprites/pokemon/versions/generation-ii/crystal/back/132.png', 'back_shiny': 'https://raw.githubusercontent.com/PokeAPI/sprites/master/sprites/pokemon/versions/generation-ii/crystal/back/shiny/132.png', 'back_shiny_transparent': 'https://raw.githubusercontent.com/PokeAPI/sprites/master/sprites/pokemon/versions/generation-ii/crystal/transparent/back/shiny/132.png', 'back_transparent': 'https://raw.githubusercontent.com/PokeAPI/sprites/master/sprites/pokemon/versions/generation-ii/crystal/transparent/back/132.png', 'front_default': 'https://raw.githubusercontent.com/PokeAPI/sprites/master/sprites/pokemon/versions/generation-ii/crystal/132.png', 'front_shiny': 'https://raw.githubusercontent.com/PokeAPI/sprites/master/sprites/pokemon/versions/generation-ii/crystal/shiny/132.png', 'front_shiny_transparent': 'https://raw.githubusercontent.com/PokeAPI/sprites/master/sprites/pokemon/versions/generation-ii/crystal/transparent/shiny/132.png', 'front_transparent': 'https://raw.githubusercontent.com/PokeAPI/sprites/master/sprites/pokemon/versions/generation-ii/crystal/transparent/132.png'}, 'gold': {'back_default': 'https://raw.githubusercontent.com/PokeAPI/sprites/master/sprites/pokemon/versions/generation-ii/gold/back/132.png', 'back_shiny': 'https://raw.githubusercontent.com/PokeAPI/sprites/master/sprites/pokemon/versions/generation-ii/gold/back/shiny/132.png', 'front_default': 'https://raw.githubusercontent.com/PokeAPI/sprites/master/sprites/pokemon/versions/generation-ii/gold/132.png', 'front_shiny': 'https://raw.githubusercontent.com/PokeAPI/sprites/master/sprites/pokemon/versions/generation-ii/gold/shiny/132.png', 'front_transparent': 'https://raw.githubusercontent.com/PokeAPI/sprites/master/sprites/pokemon/versions/generation-ii/gold/transparent/132.png'}, 'silver': {'back_default': 'https://raw.githubusercontent.com/PokeAPI/sprites/master/sprites/pokemon/versions/generation-ii/silver/back/132.png', 'back_shiny': 'https://raw.githubusercontent.com/PokeAPI/sprites/master/sprites/pokemon/versions/generation-ii/silver/back/shiny/132.png', 'front_default': 'https://raw.githubusercontent.com/PokeAPI/sprites/master/sprites/pokemon/versions/generation-ii/silver/132.png', 'front_shiny': 'https://raw.githubusercontent.com/PokeAPI/sprites/master/sprites/pokemon/versions/generation-ii/silver/shiny/132.png', 'front_transparent': 'https://raw.githubusercontent.com/PokeAPI/sprites/master/sprites/pokemon/versions/generation-ii/silver/transparent/132.png'}}, 'generation-iii': {'emerald': {'front_default': 'https://raw.githubusercontent.com/PokeAPI/sprites/master/sprites/pokemon/versions/generation-iii/emerald/132.png', 'front_shiny': 'https://raw.githubusercontent.com/PokeAPI/sprites/master/sprites/pokemon/versions/generation-iii/emerald/shiny/132.png'}, 'firered-leafgreen': {'back_default': 'https://raw.githubusercontent.com/PokeAPI/sprites/master/sprites/pokemon/versions/generation-iii/firered-leafgreen/back/132.png', 'back_shiny': 'https://raw.githubusercontent.com/PokeAPI/sprites/master/sprites/pokemon/versions/generation-iii/firered-leafgreen/back/shiny/132.png', 'front_default': 'https://raw.githubusercontent.com/PokeAPI/sprites/master/sprites/pokemon/versions/generation-iii/firered-leafgreen/132.png', 'front_shiny': 'https://raw.githubusercontent.com/PokeAPI/sprites/master/sprites/pokemon/versions/generation-iii/firered-leafgreen/shiny/132.png'}, 'ruby-sapphire': {'back_default': 'https://raw.githubusercontent.com/PokeAPI/sprites/master/sprites/pokemon/versions/generation-iii/ruby-sapphire/back/132.png', 'back_shiny': 'https://raw.githubusercontent.com/PokeAPI/sprites/master/sprites/pokemon/versions/generation-iii/ruby-sapphire/back/shiny/132.png', 'front_default': 'https://raw.githubusercontent.com/PokeAPI/sprites/master/sprites/pokemon/versions/generation-iii/ruby-sapphire/132.png', 'front_shiny': 'https://raw.githubusercontent.com/PokeAPI/sprites/master/sprites/pokemon/versions/generation-iii/ruby-sapphire/shiny/132.png'}}, 'generation-iv': {'diamond-pearl': {'back_default': 'https://raw.githubusercontent.com/PokeAPI/sprites/master/sprites/pokemon/versions/generation-iv/diamond-pearl/back/132.png', 'back_female': None, 'back_shiny': 'https://raw.githubusercontent.com/PokeAPI/sprites/master/sprites/pokemon/versions/generation-iv/diamond-pearl/back/shiny/132.png', 'back_shiny_female': None, 'front_default': 'https://raw.githubusercontent.com/PokeAPI/sprites/master/sprites/pokemon/versions/generation-iv/diamond-pearl/132.png', 'front_female': None, 'front_shiny': 'https://raw.githubusercontent.com/PokeAPI/sprites/master/sprites/pokemon/versions/generation-iv/diamond-pearl/shiny/132.png', 'front_shiny_female': None}, 'heartgold-soulsilver': {'back_default': 'https://raw.githubusercontent.com/PokeAPI/sprites/master/sprites/pokemon/versions/generation-iv/heartgold-soulsilver/back/132.png', 'back_female': None, 'back_shiny': 'https://raw.githubusercontent.com/PokeAPI/sprites/master/sprites/pokemon/versions/generation-iv/heartgold-soulsilver/back/shiny/132.png', 'back_shiny_female': None, 'front_default': 'https://raw.githubusercontent.com/PokeAPI/sprites/master/sprites/pokemon/versions/generation-iv/heartgold-soulsilver/132.png', 'front_female': None, 'front_shiny': 'https://raw.githubusercontent.com/PokeAPI/sprites/master/sprites/pokemon/versions/generation-iv/heartgold-soulsilver/shiny/132.png', 'front_shiny_female': None}, 'platinum': {'back_default': 'https://raw.githubusercontent.com/PokeAPI/sprites/master/sprites/pokemon/versions/generation-iv/platinum/back/132.png', 'back_female': None, 'back_shiny': 'https://raw.githubusercontent.com/PokeAPI/sprites/master/sprites/pokemon/versions/generation-iv/platinum/back/shiny/132.png', 'back_shiny_female': None, 'front_default': 'https://raw.githubusercontent.com/PokeAPI/sprites/master/sprites/pokemon/versions/generation-iv/platinum/132.png', 'front_female': None, 'front_shiny': 'https://raw.githubusercontent.com/PokeAPI/sprites/master/sprites/pokemon/versions/generation-iv/platinum/shiny/132.png', 'front_shiny_female': None}}, 'generation-v': {'black-white': {'animated': {'back_default': 'https://raw.githubusercontent.com/PokeAPI/sprites/master/sprites/pokemon/versions/generation-v/black-white/animated/back/132.gif', 'back_female': None, 'back_shiny': 'https://raw.githubusercontent.com/PokeAPI/sprites/master/sprites/pokemon/versions/generation-v/black-white/animated/back/shiny/132.gif', 'back_shiny_female': None, 'front_default': 'https://raw.githubusercontent.com/PokeAPI/sprites/master/sprites/pokemon/versions/generation-v/black-white/animated/132.gif', 'front_female': None, 'front_shiny': 'https://raw.githubusercontent.com/PokeAPI/sprites/master/sprites/pokemon/versions/generation-v/black-white/animated/shiny/132.gif', 'front_shiny_female': None}, 'back_default': 'https://raw.githubusercontent.com/PokeAPI/sprites/master/sprites/pokemon/versions/generation-v/black-white/back/132.png', 'back_female': None, 'back_shiny': 'https://raw.githubusercontent.com/PokeAPI/sprites/master/sprites/pokemon/versions/generation-v/black-white/back/shiny/132.png', 'back_shiny_female': None, 'front_default': 'https://raw.githubusercontent.com/PokeAPI/sprites/master/sprites/pokemon/versions/generation-v/black-white/132.png', 'front_female': None, 'front_shiny': 'https://raw.githubusercontent.com/PokeAPI/sprites/master/sprites/pokemon/versions/generation-v/black-white/shiny/132.png', 'front_shiny_female': None}}, 'generation-vi': {'omegaruby-alphasapphire': {'front_default': 'https://raw.githubusercontent.com/PokeAPI/sprites/master/sprites/pokemon/versions/generation-vi/omegaruby-alphasapphire/132.png', 'front_female': None, 'front_shiny': 'https://raw.githubusercontent.com/PokeAPI/sprites/master/sprites/pokemon/versions/generation-vi/omegaruby-alphasapphire/shiny/132.png', 'front_shiny_female': None}, 'x-y': {'front_default': 'https://raw.githubusercontent.com/PokeAPI/sprites/master/sprites/pokemon/versions/generation-vi/x-y/132.png', 'front_female': None, 'front_shiny': 'https://raw.githubusercontent.com/PokeAPI/sprites/master/sprites/pokemon/versions/generation-vi/x-y/shiny/132.png', 'front_shiny_female': None}}, 'generation-vii': {'icons': {'front_default': 'https://raw.githubusercontent.com/PokeAPI/sprites/master/sprites/pokemon/versions/generation-vii/icons/132.png', 'front_female': None}, 'ultra-sun-ultra-moon': {'front_default': 'https://raw.githubusercontent.com/PokeAPI/sprites/master/sprites/pokemon/versions/generation-vii/ultra-sun-ultra-moon/132.png', 'front_female': None, 'front_shiny': 'https://raw.githubusercontent.com/PokeAPI/sprites/master/sprites/pokemon/versions/generation-vii/ultra-sun-ultra-moon/shiny/132.png', 'front_shiny_female': None}}, 'generation-viii': {'icons': {'front_default': 'https://raw.githubusercontent.com/PokeAPI/sprites/master/sprites/pokemon/versions/generation-viii/icons/132.png', 'front_female': None}}}}, 'stats': [{'base_stat': 48, 'effort': 1, 'stat': {'name': 'hp', 'url': 'https://pokeapi.co/api/v2/stat/1/'}}, {'base_stat': 48, 'effort': 0, 'stat': {'name': 'attack', 'url': 'https://pokeapi.co/api/v2/stat/2/'}}, {'base_stat': 48, 'effort': 0, 'stat': {'name': 'defense', 'url': 'https://pokeapi.co/api/v2/stat/3/'}}, {'base_stat': 48, 'effort': 0, 'stat': {'name': 'special-attack', 'url': 'https://pokeapi.co/api/v2/stat/4/'}}, {'base_stat': 48, 'effort': 0, 'stat': {'name': 'special-defense', 'url': 'https://pokeapi.co/api/v2/stat/5/'}}, {'base_stat': 48, 'effort': 0, 'stat': {'name': 'speed', 'url': 'https://pokeapi.co/api/v2/stat/6/'}}], 'types': [{'slot': 1, 'type': {'name': 'normal', 'url': 'https://pokeapi.co/api/v2/type/1/'}}], 'weight': 40}\n"
     ]
    }
   ],
   "source": [
    "url = \"https://pokeapi.co/api/v2/pokemon/ditto\"\n",
    "response = requests.get(url)\n",
    "print(response)\n",
    "if response.ok:\n",
    "    data = response.json()\n",
    "    print(data)"
   ]
  },
  {
   "cell_type": "code",
   "execution_count": 15,
   "id": "ea358507",
   "metadata": {
    "scrolled": false
   },
   "outputs": [
    {
     "name": "stdout",
     "output_type": "stream",
     "text": [
      "<Response [200]>\n"
     ]
    }
   ],
   "source": [
    "url = \"https://pokeapi.co/\"\n",
    "response = requests.get(url)\n",
    "print(response)\n",
    "# if response.ok:\n",
    "#     data = response.json()\n",
    "#     print(data)"
   ]
  },
  {
   "cell_type": "markdown",
   "id": "6d546014",
   "metadata": {},
   "source": [
    "# <strong>Homework</strong>\n",
    "check out this Pokemon API https://pokeapi.co/\n",
    "Use the requests package to connect to this API and get and store data for 5 different pokemon.\n",
    "Get the pokemons: \n",
    "\n",
    "<p>name, </p>\n",
    "<p>atleast one ability's name, </p>\n",
    "<p>base_experience, </p>\n",
    "<p>and the URL for its sprite (an image that shows up on screen) for the 'front_shiny', </p>\n",
    "<p>attack base_state, </p>\n",
    "<p>hp base_stat, </p>\n",
    "<p>defense base_stat</p>"
   ]
  },
  {
   "cell_type": "code",
   "execution_count": null,
   "id": "1c95c48c",
   "metadata": {
    "scrolled": false
   },
   "outputs": [],
   "source": [
    "# https://pokeapi.co/docs/v2#pokemon\n",
    "# https://pokeapi.co/api/v2/pokemon/{id or name}/"
   ]
  },
  {
   "cell_type": "code",
   "execution_count": 27,
   "id": "5a9081e3",
   "metadata": {
    "scrolled": false
   },
   "outputs": [
    {
     "name": "stdout",
     "output_type": "stream",
     "text": [
      "What pokemon did you want to search for? pikachu\n",
      "pikachu is your pokemon! \n",
      "Ability 1: static \n",
      "Base XP: 112 \n",
      "Attack stat: 55 \n",
      "HP stat: 35 \n",
      "Defense stat: 40 \n",
      "Shiny Sprite: https://raw.githubusercontent.com/PokeAPI/sprites/master/sprites/pokemon/shiny/25.png\n"
     ]
    }
   ],
   "source": [
    "import requests, json\n",
    "\n",
    "pokemon = input('What pokemon did you want to search for? ')\n",
    "url = f'https://pokeapi.co/api/v2/pokemon/{pokemon}'\n",
    "response = requests.get(url)\n",
    "# data = response.json()\n",
    "\n",
    "if response.ok:\n",
    "    data = response.json() \n",
    "#     information = data[\"abilities\"][\"base_experience\"][\"name\"]\n",
    "#     mylist = []\n",
    "    for info in data:\n",
    "        name = data[\"name\"]\n",
    "        ability = data[\"abilities\"][0][\"ability\"][\"name\"]\n",
    "        baseXP = data[\"base_experience\"]\n",
    "        sprite_url = data[\"sprites\"][\"front_shiny\"]\n",
    "        attack = data[\"stats\"][1][\"base_stat\"] #[\"name\"] \n",
    "        hp= data[\"stats\"][0][\"base_stat\"] #[\"hp\"]\n",
    "        defense = data[\"stats\"][2][\"base_stat\"] #[\"defense\"]\n",
    "#         mylist.append      \n",
    "#     else: \n",
    "#         print('invalid please try again')\n",
    "    \n",
    "print(f'{name} is your pokemon! \\nAbility 1: {ability} \\nBase XP: {baseXP} \\nAttack stat: {attack} \\nHP stat: {hp} \\nDefense stat: {defense} \\nShiny Sprite: {sprite_url}')\n",
    "\n"
   ]
  },
  {
   "cell_type": "code",
   "execution_count": 36,
   "id": "e239ea84",
   "metadata": {},
   "outputs": [
    {
     "name": "stdout",
     "output_type": "stream",
     "text": [
      "pikachu is your pokemon! \n",
      "Ability 1: static \n",
      "Base XP: 112 \n",
      "Attack stat: 55 \n",
      "HP stat: 35 \n",
      "Defense stat: 40 \n",
      "Shiny Sprite: https://raw.githubusercontent.com/PokeAPI/sprites/master/sprites/pokemon/shiny/25.png\n",
      "\n",
      "ditto is your pokemon! \n",
      "Ability 1: limber \n",
      "Base XP: 101 \n",
      "Attack stat: 48 \n",
      "HP stat: 48 \n",
      "Defense stat: 48 \n",
      "Shiny Sprite: https://raw.githubusercontent.com/PokeAPI/sprites/master/sprites/pokemon/shiny/132.png\n",
      "\n",
      "squirtle is your pokemon! \n",
      "Ability 1: torrent \n",
      "Base XP: 63 \n",
      "Attack stat: 48 \n",
      "HP stat: 44 \n",
      "Defense stat: 65 \n",
      "Shiny Sprite: https://raw.githubusercontent.com/PokeAPI/sprites/master/sprites/pokemon/shiny/7.png\n",
      "\n",
      "snorlax is your pokemon! \n",
      "Ability 1: immunity \n",
      "Base XP: 189 \n",
      "Attack stat: 110 \n",
      "HP stat: 160 \n",
      "Defense stat: 65 \n",
      "Shiny Sprite: https://raw.githubusercontent.com/PokeAPI/sprites/master/sprites/pokemon/shiny/143.png\n",
      "\n",
      "charmander is your pokemon! \n",
      "Ability 1: blaze \n",
      "Base XP: 62 \n",
      "Attack stat: 52 \n",
      "HP stat: 39 \n",
      "Defense stat: 43 \n",
      "Shiny Sprite: https://raw.githubusercontent.com/PokeAPI/sprites/master/sprites/pokemon/shiny/4.png\n",
      "\n"
     ]
    }
   ],
   "source": [
    "#store data defining the function def resuses code  \n",
    "#call/value(argument/param)\n",
    "\n",
    "import requests\n",
    "\n",
    "def get_pokemon_data(pokemon_name):\n",
    "    url = f'https://pokeapi.co/api/v2/pokemon/{pokemon_name}'\n",
    "    response = requests.get(url)\n",
    "    data = response.json()\n",
    "\n",
    "    for info in data:\n",
    "        name = data[\"name\"]\n",
    "        ability = data[\"abilities\"][0][\"ability\"][\"name\"]\n",
    "        baseXP = data[\"base_experience\"]\n",
    "        sprite_url = data[\"sprites\"][\"front_shiny\"]\n",
    "        attack = data[\"stats\"][1][\"base_stat\"] \n",
    "        hp= data[\"stats\"][0][\"base_stat\"] \n",
    "        defense = data[\"stats\"][2][\"base_stat\"] \n",
    "\n",
    "    print(f'{name} is your pokemon! \\nAbility 1: {ability} \\nBase XP: {baseXP} \\nAttack stat: {attack} \\nHP stat: {hp} \\nDefense stat: {defense} \\nShiny Sprite: {sprite_url}\\n')\n",
    "\n",
    "get_pokemon_data('pikachu')\n",
    "get_pokemon_data('ditto')\n",
    "get_pokemon_data('squirtle')\n",
    "get_pokemon_data('snorlax')\n",
    "get_pokemon_data('charmander')\n",
    "\n"
   ]
  },
  {
   "cell_type": "code",
   "execution_count": null,
   "id": "c0869dfe",
   "metadata": {},
   "outputs": [],
   "source": []
  }
 ],
 "metadata": {
  "kernelspec": {
   "display_name": "Python 3 (ipykernel)",
   "language": "python",
   "name": "python3"
  },
  "language_info": {
   "codemirror_mode": {
    "name": "ipython",
    "version": 3
   },
   "file_extension": ".py",
   "mimetype": "text/x-python",
   "name": "python",
   "nbconvert_exporter": "python",
   "pygments_lexer": "ipython3",
   "version": "3.9.13"
  }
 },
 "nbformat": 4,
 "nbformat_minor": 5
}
